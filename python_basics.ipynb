{
  "nbformat": 4,
  "nbformat_minor": 0,
  "metadata": {
    "colab": {
      "provenance": []
    },
    "kernelspec": {
      "name": "python3",
      "display_name": "Python 3"
    },
    "language_info": {
      "name": "python"
    }
  },
  "cells": [
    {
      "cell_type": "markdown",
      "source": [
        "***Q1. What is the python, and why is it popular ?***\n",
        "\n"
      ],
      "metadata": {
        "id": "B2jYPOvpNyXl"
      }
    },
    {
      "cell_type": "markdown",
      "source": [
        "   - Python ia a programming language that is used for web development, data science, machine learning, and more. Python is invented by \"Guido van Rossum\" in 1991.\n",
        "   - why it is popular ?\n",
        "            1) Easy to learn and use.\n",
        "            2) Rich ecosystem of libraries ex.- Pandas, Numpy, Matplotlib ete.\n",
        "            3) Community support\n",
        "            4) Continous development happening .\n",
        "            5) Scalability and versatality.\n",
        "            6) It is open source means it is publically availible\n",
        "            7) Widely use in industry.\n",
        "            8) Ease of learning\n",
        "            9) Automation\n",
        "            10)Databases.\n",
        "      \n"
      ],
      "metadata": {
        "id": "HM_mV6_DPpkZ"
      }
    },
    {
      "cell_type": "markdown",
      "source": [
        "***Q2. what is interpreter in python ?***\n",
        "   - A python interpreter is a computer program that takes the python code and convert it into machine code."
      ],
      "metadata": {
        "id": "V5NmF5xCSJEk"
      }
    },
    {
      "cell_type": "code",
      "source": [
        "a=5\n",
        "b=5\n",
        "print(a+b)"
      ],
      "metadata": {
        "colab": {
          "base_uri": "https://localhost:8080/"
        },
        "id": "gUTZgNghQgL_",
        "outputId": "4c48df5b-1d5d-47a9-bf0a-7551410ae0b9"
      },
      "execution_count": 8,
      "outputs": [
        {
          "output_type": "stream",
          "name": "stdout",
          "text": [
            "10\n"
          ]
        }
      ]
    },
    {
      "cell_type": "markdown",
      "source": [
        "***Q3) What are pre-defined keywords in Python ?***\n",
        "   - Python keywords are some pre-defiend and reserved words in python that have special meanings. keywords are used to define the syntax of the coading . the keyword can not be used as an identifier , functions, or variable name . All the keywords in python are written in lowercase except True and False.\n"
      ],
      "metadata": {
        "id": "WNILMOjbUKRf"
      }
    },
    {
      "cell_type": "code",
      "source": [
        "#pre-defined key-words in python\n",
        "import keyword\n",
        "print(keyword.kwlist)\n"
      ],
      "metadata": {
        "colab": {
          "base_uri": "https://localhost:8080/"
        },
        "id": "xowfKg30V0jx",
        "outputId": "6a12b8e0-e38b-4e0f-b53f-ab594dd5a9c0"
      },
      "execution_count": 10,
      "outputs": [
        {
          "output_type": "stream",
          "name": "stdout",
          "text": [
            "['False', 'None', 'True', 'and', 'as', 'assert', 'async', 'await', 'break', 'class', 'continue', 'def', 'del', 'elif', 'else', 'except', 'finally', 'for', 'from', 'global', 'if', 'import', 'in', 'is', 'lambda', 'nonlocal', 'not', 'or', 'pass', 'raise', 'return', 'try', 'while', 'with', 'yield']\n"
          ]
        }
      ]
    },
    {
      "cell_type": "markdown",
      "source": [
        "***Q4) Can keywrods be used as variable names ?***\n",
        "   -  No, you can not use python keywrods as  variable name , beacuse they are reserved word with specific meaning in the language syntax.\n"
      ],
      "metadata": {
        "id": "fO1Tu7gbWeBu"
      }
    },
    {
      "cell_type": "code",
      "source": [
        "#variable should not be keyword\n",
        " #print(\"hello\")"
      ],
      "metadata": {
        "id": "u0om7KgLzLBC"
      },
      "execution_count": null,
      "outputs": []
    },
    {
      "cell_type": "markdown",
      "source": [
        "***Q5) What is muability in Python ?***\n",
        "   - In Python mutability an object/container whose state or value can be changed after they are created one."
      ],
      "metadata": {
        "id": "7HQrMaQDZfgh"
      }
    },
    {
      "cell_type": "code",
      "source": [
        "#mutability example\n",
        "list_container=[1,2,3,4,5]\n",
        "list_container[0]=10\n",
        "print(list_container)"
      ],
      "metadata": {
        "colab": {
          "base_uri": "https://localhost:8080/"
        },
        "id": "aaU_POzUYpK_",
        "outputId": "9f29bfc6-739a-411b-bfad-81465fde06fb"
      },
      "execution_count": 11,
      "outputs": [
        {
          "output_type": "stream",
          "name": "stdout",
          "text": [
            "[10, 2, 3, 4, 5]\n"
          ]
        }
      ]
    },
    {
      "cell_type": "markdown",
      "source": [
        "***Q6) Why are lists mutable, but tuples are immutable ?***\n",
        "- Mutability means the ability of an object to change its internal state or value after it has been created.\n",
        "     Lists are mutable because you can modify their elements after they are created. This means you can add,remove,or change elements within a lists.\n",
        "- Touples are immutable because they are designed to represent a fixed collection of items. this means you can not add, remove, or chnage an element after it has been created"
      ],
      "metadata": {
        "id": "dyI7Q4U1Z9B8"
      }
    },
    {
      "cell_type": "code",
      "source": [
        "#tuples are immutable\n",
        "my_tuple=(1,2,3,4,5)\n",
        "my_tuple[0]=8 #this will raise a type error"
      ],
      "metadata": {
        "colab": {
          "base_uri": "https://localhost:8080/",
          "height": 176
        },
        "id": "dq47RYOXLVDd",
        "outputId": "6a097087-ac1e-48c8-c6dc-89c643ed0d15"
      },
      "execution_count": 38,
      "outputs": [
        {
          "output_type": "error",
          "ename": "TypeError",
          "evalue": "'tuple' object does not support item assignment",
          "traceback": [
            "\u001b[0;31m---------------------------------------------------------------------------\u001b[0m",
            "\u001b[0;31mTypeError\u001b[0m                                 Traceback (most recent call last)",
            "\u001b[0;32m<ipython-input-38-3ff6781160b6>\u001b[0m in \u001b[0;36m<cell line: 0>\u001b[0;34m()\u001b[0m\n\u001b[1;32m      1\u001b[0m \u001b[0;31m#tuples are immutable\u001b[0m\u001b[0;34m\u001b[0m\u001b[0;34m\u001b[0m\u001b[0m\n\u001b[1;32m      2\u001b[0m \u001b[0mmy_tuple\u001b[0m\u001b[0;34m=\u001b[0m\u001b[0;34m(\u001b[0m\u001b[0;36m1\u001b[0m\u001b[0;34m,\u001b[0m\u001b[0;36m2\u001b[0m\u001b[0;34m,\u001b[0m\u001b[0;36m3\u001b[0m\u001b[0;34m,\u001b[0m\u001b[0;36m4\u001b[0m\u001b[0;34m,\u001b[0m\u001b[0;36m5\u001b[0m\u001b[0;34m)\u001b[0m\u001b[0;34m\u001b[0m\u001b[0;34m\u001b[0m\u001b[0m\n\u001b[0;32m----> 3\u001b[0;31m \u001b[0mmy_tuple\u001b[0m\u001b[0;34m[\u001b[0m\u001b[0;36m0\u001b[0m\u001b[0;34m]\u001b[0m\u001b[0;34m=\u001b[0m\u001b[0;36m8\u001b[0m \u001b[0;31m#this will raise a type error\u001b[0m\u001b[0;34m\u001b[0m\u001b[0;34m\u001b[0m\u001b[0m\n\u001b[0m",
            "\u001b[0;31mTypeError\u001b[0m: 'tuple' object does not support item assignment"
          ]
        }
      ]
    },
    {
      "source": [
        "#lists are mutable\n",
        "my_list = [1, 2, 3,4,5]\n",
        "my_list[0] = 9  # Change the first element to 9\n",
        "my_list.append(8)  # Add an element to the end\n",
        "my_list.remove(3)  # Remove the element with value 3"
      ],
      "cell_type": "code",
      "metadata": {
        "id": "S3gd25WLJqgk"
      },
      "execution_count": 39,
      "outputs": []
    },
    {
      "cell_type": "markdown",
      "source": [
        " ***Q7) what is the difference between \"==\" and \"is\" operators in Python ?***\n",
        "  - \"==\"  this operator checks for equality of values which means it evaluates whether the value of two objects are the same.\n",
        "  - \"is\" operator checks for identity , meaning it determines whether two variables point to the same object in the memory."
      ],
      "metadata": {
        "id": "pgMIa47QcOk4"
      }
    },
    {
      "cell_type": "code",
      "source": [
        "# \"==\" operator example\n",
        "1==1\n",
        "print(1==1)"
      ],
      "metadata": {
        "colab": {
          "base_uri": "https://localhost:8080/"
        },
        "id": "5a6VViVCdx6s",
        "outputId": "d9110b54-d826-4405-e34e-02eecef37f00"
      },
      "execution_count": 12,
      "outputs": [
        {
          "output_type": "stream",
          "name": "stdout",
          "text": [
            "True\n"
          ]
        }
      ]
    },
    {
      "cell_type": "code",
      "source": [
        "# \"is\" operator example\n",
        "a=[1,2]\n",
        "b=a #a is b is ture , because a and b point to the same list object.\n",
        "print(b)"
      ],
      "metadata": {
        "colab": {
          "base_uri": "https://localhost:8080/"
        },
        "id": "Ct0vIx0oeTHE",
        "outputId": "3511fc62-45d1-4078-f86a-cda92bdd96c4"
      },
      "execution_count": 13,
      "outputs": [
        {
          "output_type": "stream",
          "name": "stdout",
          "text": [
            "[1, 2]\n"
          ]
        }
      ]
    },
    {
      "cell_type": "markdown",
      "source": [
        " ***Q8) What are logical operators in Python ?***\n",
        "  - In Python there are three logical operators\n",
        "  - 1) And\n",
        "  - 2) or\n",
        "  - 3) not"
      ],
      "metadata": {
        "id": "EXlhpdHje4RX"
      }
    },
    {
      "cell_type": "code",
      "source": [
        "#and logical operator example\n",
        "a=True\n",
        "b=False\n",
        "print(a and b)\n",
        "\n",
        "#or logical operator\n",
        "a=True\n",
        "b=False\n",
        "print(a or b)\n",
        "\n",
        "#not logical operator\n",
        "a=True\n",
        "\n",
        "print(not a)"
      ],
      "metadata": {
        "colab": {
          "base_uri": "https://localhost:8080/"
        },
        "id": "2kQG0Qsefj2A",
        "outputId": "bd146d9c-5084-45f7-a28c-ab42444b951d"
      },
      "execution_count": 15,
      "outputs": [
        {
          "output_type": "stream",
          "name": "stdout",
          "text": [
            "False\n",
            "True\n",
            "False\n"
          ]
        }
      ]
    },
    {
      "cell_type": "markdown",
      "source": [
        " ***Q9) What is the type casting in Python ?***\n",
        "  - Type casting is the process of converting a variable's data type into the another data type."
      ],
      "metadata": {
        "id": "5N3YjJAogYob"
      }
    },
    {
      "cell_type": "code",
      "source": [
        "#type casting\n",
        "a=2\n",
        "type(a)\n"
      ],
      "metadata": {
        "colab": {
          "base_uri": "https://localhost:8080/"
        },
        "id": "7nxxdFElhKkx",
        "outputId": "185051be-8ae9-49b5-e6b8-04b749e7e751"
      },
      "execution_count": 25,
      "outputs": [
        {
          "output_type": "execute_result",
          "data": {
            "text/plain": [
              "int"
            ]
          },
          "metadata": {},
          "execution_count": 25
        }
      ]
    },
    {
      "cell_type": "code",
      "source": [
        "b=float(a)\n",
        "b"
      ],
      "metadata": {
        "colab": {
          "base_uri": "https://localhost:8080/"
        },
        "id": "hsdEqPy3h6Mb",
        "outputId": "2cb33139-8569-43b3-8904-72b936a84412"
      },
      "execution_count": 26,
      "outputs": [
        {
          "output_type": "execute_result",
          "data": {
            "text/plain": [
              "2.0"
            ]
          },
          "metadata": {},
          "execution_count": 26
        }
      ]
    },
    {
      "cell_type": "markdown",
      "source": [
        " ***Q10) what is the difference between implicit and explicit type casting ?***\n",
        "  - ***Implicit type casting*** -The programming language automatically converts data from one type to another if needed.\n",
        "  for example- if you have an interger variable and try to assign it to a float variable, the programming language will automatically convert the integer to a float without you having to do anything.\n",
        "\n",
        "- Explicit type casting - also known as type conversion or type coercion, occurs when the programmer explicitly converts a value from one data type to another. explicit type casting requires the programmer to specify the desired data type conversion."
      ],
      "metadata": {
        "id": "M4LsYVUch_3y"
      }
    },
    {
      "cell_type": "code",
      "source": [
        "a = 42 #implicit type casting\n",
        "b = a\n",
        "type (b)\n"
      ],
      "metadata": {
        "colab": {
          "base_uri": "https://localhost:8080/"
        },
        "id": "8DmxwsBDmssg",
        "outputId": "cb119844-79c1-476d-f48b-2030ed23c13f"
      },
      "execution_count": 33,
      "outputs": [
        {
          "output_type": "execute_result",
          "data": {
            "text/plain": [
              "int"
            ]
          },
          "metadata": {},
          "execution_count": 33
        }
      ]
    },
    {
      "cell_type": "code",
      "source": [
        "a = 42.12 #explicit type casting\n",
        "int(a)"
      ],
      "metadata": {
        "colab": {
          "base_uri": "https://localhost:8080/"
        },
        "id": "6iNo7yh_p9eD",
        "outputId": "f854817d-74bb-4be4-aa39-640112d3293d"
      },
      "execution_count": 37,
      "outputs": [
        {
          "output_type": "execute_result",
          "data": {
            "text/plain": [
              "42"
            ]
          },
          "metadata": {},
          "execution_count": 37
        }
      ]
    },
    {
      "cell_type": "markdown",
      "source": [
        " ***Q11) what is the purpose of conditional statement in python ?***\n",
        "   - Condiotional statements in Python are used to excecute certain blocks of code based on specific conditions. Conditonal statements in python like if, elif, and else , allow to control the flow of your program by executing specific code blocks based on whether a condition is true or false , enabling dynamic and resonsive programs.\n",
        "  "
      ],
      "metadata": {
        "id": "sxy1Z-FvqmlC"
      }
    },
    {
      "cell_type": "code",
      "source": [],
      "metadata": {
        "id": "hkwP-mHCqltX"
      },
      "execution_count": null,
      "outputs": []
    },
    {
      "cell_type": "markdown",
      "source": [
        "***Q12) How does the elif statement work ?***\n",
        "  -  The \"elif\" bkeyword in python , stand for \"else if\" . it can be used in conditional statements to check for multiple conditions. for example , if the first condition is false, it moves on the next \"elif\" statement to check if the condition is ture."
      ],
      "metadata": {
        "id": "KlpygmS5uazV"
      }
    },
    {
      "cell_type": "code",
      "source": [
        "#elif statement example\n",
        "x=10\n",
        "if x>10:\n",
        "    print(\"x is greater than 10\")\n",
        "elif x<10:\n",
        "    print(\"x is less than 10\")\n",
        "else:\n",
        "    print(\"x is equal to 10\")"
      ],
      "metadata": {
        "colab": {
          "base_uri": "https://localhost:8080/"
        },
        "id": "8veuckwYwKVG",
        "outputId": "a344acbf-dd54-4f18-cbae-281c7bb54ce4"
      },
      "execution_count": 38,
      "outputs": [
        {
          "output_type": "stream",
          "name": "stdout",
          "text": [
            "x is equal to 10\n"
          ]
        }
      ]
    },
    {
      "cell_type": "markdown",
      "source": [
        " ***Q13) What is the diffrence between for and while loops?***\n",
        "   - A for loop in python repeats executing a code block from a sequence till certain number of times. whereas a while loop in Python repeats excecutive of a code block till the condition is ture which is not certain."
      ],
      "metadata": {
        "id": "_EZ9D32PweNv"
      }
    },
    {
      "cell_type": "markdown",
      "source": [
        " ***Q14) Describe a scenario where a while loop is more suitable than a for loop.***\n",
        "   - A While loop is more suitable than a for loop , for situations where the number of iterations is not predetermined and depends on some dynamic conditions."
      ],
      "metadata": {
        "id": "Yq19ELrsxu49"
      }
    },
    {
      "cell_type": "markdown",
      "source": [
        "# Practical questions"
      ],
      "metadata": {
        "id": "rsir1ZJc4K_B"
      }
    },
    {
      "cell_type": "markdown",
      "source": [
        " ***Q1) Write a Python program to print \"hello world!***\""
      ],
      "metadata": {
        "id": "2SwEcmRj4UWt"
      }
    },
    {
      "cell_type": "code",
      "source": [
        "\"hello world!\"\n",
        "print ( \"hello world!\")"
      ],
      "metadata": {
        "colab": {
          "base_uri": "https://localhost:8080/"
        },
        "id": "l0THllIB3PpO",
        "outputId": "4fcf6dcb-c80f-4ed4-b5d3-e4ff8053b146"
      },
      "execution_count": 39,
      "outputs": [
        {
          "output_type": "stream",
          "name": "stdout",
          "text": [
            "hello world!\n"
          ]
        }
      ]
    },
    {
      "cell_type": "markdown",
      "source": [
        "***Q2) Write a python program that displays your name and age .***"
      ],
      "metadata": {
        "id": "s9PZkmkH7EAR"
      }
    },
    {
      "cell_type": "code",
      "source": [
        "#display name age program\n",
        "Name=\"anamika\"\n",
        "Age= 30\n",
        "print(\"Hi, my name is\", Name , \"and I am\", Age, \"years old\")\n"
      ],
      "metadata": {
        "colab": {
          "base_uri": "https://localhost:8080/"
        },
        "id": "FuuzRCLO7NFe",
        "outputId": "cd48ab52-b484-4d6c-801c-da334ef7de8d"
      },
      "execution_count": 52,
      "outputs": [
        {
          "output_type": "stream",
          "name": "stdout",
          "text": [
            "Hi, my name is anamika and I am 30 years old\n"
          ]
        }
      ]
    },
    {
      "cell_type": "markdown",
      "source": [
        "**Q3)write code to print all the pre-defined keywords in python using the keyword library.**"
      ],
      "metadata": {
        "id": "m_nO2q4z_QVe"
      }
    },
    {
      "cell_type": "code",
      "source": [
        "#pre-defined keyword in python library\n",
        "import keyword\n",
        "print(keyword.kwlist)"
      ],
      "metadata": {
        "colab": {
          "base_uri": "https://localhost:8080/"
        },
        "id": "hdZTO46t_dUd",
        "outputId": "ce3a0904-afaf-4748-9348-09c1028d4033"
      },
      "execution_count": 57,
      "outputs": [
        {
          "output_type": "stream",
          "name": "stdout",
          "text": [
            "['False', 'None', 'True', 'and', 'as', 'assert', 'async', 'await', 'break', 'class', 'continue', 'def', 'del', 'elif', 'else', 'except', 'finally', 'for', 'from', 'global', 'if', 'import', 'in', 'is', 'lambda', 'nonlocal', 'not', 'or', 'pass', 'raise', 'return', 'try', 'while', 'with', 'yield']\n"
          ]
        }
      ]
    },
    {
      "cell_type": "markdown",
      "source": [
        "***Q4) Write a program that checks if a given word is a python keyword.***"
      ],
      "metadata": {
        "id": "C0-bEUnMAIXz"
      }
    },
    {
      "cell_type": "code",
      "source": [
        "#program that checks if a given word is a python keyword\n",
        "iskeyword=input(\"enter a word to check if it is a python keyword or not : \")\n",
        "if iskeyword in keyword.kwlist:\n",
        "    print(iskeyword, \"is a python keyword\")\n",
        "else:\n",
        "    print(iskeyword, \"is not a python keyword\")"
      ],
      "metadata": {
        "colab": {
          "base_uri": "https://localhost:8080/"
        },
        "id": "6lm_VmB3AWag",
        "outputId": "0e68838e-4692-4f1b-c164-f341d2638e68"
      },
      "execution_count": 58,
      "outputs": [
        {
          "output_type": "stream",
          "name": "stdout",
          "text": [
            "enter a word to check if it is a python keyword or not : for\n",
            "for is a python keyword\n"
          ]
        }
      ]
    },
    {
      "cell_type": "markdown",
      "source": [
        "***Q5) Creat a list and tuple in Python and demonstrate how attempting to change an element works differently for each .***"
      ],
      "metadata": {
        "id": "mUO1bEIDA69z"
      }
    },
    {
      "cell_type": "code",
      "source": [
        "# create a list\n",
        "my_list= [\"apple\", \"banana\", \"cherry\"]\n",
        "print(\"Original list:\", my_list)\n",
        "\n",
        "# modify the list\n",
        "my_list[1] = \"orange\"\n",
        "print(\"Modified list:\", my_list)\n",
        "\n",
        "# create a tuple\n",
        "my_tuple = (\"apple\", \"banana\", \"cherry\")\n",
        "print(\"Original tuple:\", my_tuple)\n",
        "\n",
        "# attempt to modify the tuple\n",
        "my_tuple[1] = \"kiwi\"\n",
        "print(\"Modified tuple:\", my_tuple) #this will raise an error. tuple do not support item assignment."
      ],
      "metadata": {
        "colab": {
          "base_uri": "https://localhost:8080/",
          "height": 245
        },
        "id": "n97AJv2gBNEH",
        "outputId": "345714dc-a4aa-45be-c035-6de3c032c074"
      },
      "execution_count": 6,
      "outputs": [
        {
          "output_type": "stream",
          "name": "stdout",
          "text": [
            "Original list: ['apple', 'banana', 'cherry']\n",
            "Modified list: ['apple', 'orange', 'cherry']\n",
            "Original tuple: ('apple', 'banana', 'cherry')\n"
          ]
        },
        {
          "output_type": "error",
          "ename": "TypeError",
          "evalue": "'tuple' object does not support item assignment",
          "traceback": [
            "\u001b[0;31m---------------------------------------------------------------------------\u001b[0m",
            "\u001b[0;31mTypeError\u001b[0m                                 Traceback (most recent call last)",
            "\u001b[0;32m<ipython-input-6-f24ad752cb8e>\u001b[0m in \u001b[0;36m<cell line: 0>\u001b[0;34m()\u001b[0m\n\u001b[1;32m     12\u001b[0m \u001b[0;34m\u001b[0m\u001b[0m\n\u001b[1;32m     13\u001b[0m \u001b[0;31m# attempt to modify the tuple\u001b[0m\u001b[0;34m\u001b[0m\u001b[0;34m\u001b[0m\u001b[0m\n\u001b[0;32m---> 14\u001b[0;31m \u001b[0mmy_tuple\u001b[0m\u001b[0;34m[\u001b[0m\u001b[0;36m1\u001b[0m\u001b[0;34m]\u001b[0m \u001b[0;34m=\u001b[0m \u001b[0;34m\"kiwi\"\u001b[0m\u001b[0;34m\u001b[0m\u001b[0;34m\u001b[0m\u001b[0m\n\u001b[0m\u001b[1;32m     15\u001b[0m \u001b[0mprint\u001b[0m\u001b[0;34m(\u001b[0m\u001b[0;34m\"Modified tuple:\"\u001b[0m\u001b[0;34m,\u001b[0m \u001b[0mmy_tuple\u001b[0m\u001b[0;34m)\u001b[0m\u001b[0;34m\u001b[0m\u001b[0;34m\u001b[0m\u001b[0m\n",
            "\u001b[0;31mTypeError\u001b[0m: 'tuple' object does not support item assignment"
          ]
        }
      ]
    },
    {
      "cell_type": "markdown",
      "source": [
        "**Q6) Write a function to demonstrte the behaviour of mutable and immutable argument.**"
      ],
      "metadata": {
        "id": "FS8zMsiwBi7N"
      }
    },
    {
      "cell_type": "code",
      "source": [
        "#object whose state of value can be change after they are created is called mutable object.\n",
        "#lists is a type of mutable object.\n",
        "\n",
        "#mutable example\n",
        "list_cont = [1, 2, 3, 3.2, 5+7j, True, \"anamika\"]\n",
        "print (list_cont)\n",
        "\n",
        "list_cont[2] = \"apple\"\n",
        "print (list_cont)\n",
        "\n",
        "#object whose state of value can not be change after they are created is called immutable.\n",
        "#string is a type of immutable object\n",
        "\n",
        "#immutable example\n",
        "b= \"happylearning\"\n",
        "print(b)\n",
        "b[3] = \"p\"\n",
        "print(b)  #this will give an error"
      ],
      "metadata": {
        "colab": {
          "base_uri": "https://localhost:8080/",
          "height": 245
        },
        "id": "JmtbhDBiBuiY",
        "outputId": "8472fe08-0caf-447d-ebb8-d5e9153236fc"
      },
      "execution_count": 13,
      "outputs": [
        {
          "output_type": "stream",
          "name": "stdout",
          "text": [
            "[1, 2, 3, 3.2, (5+7j), True, 'anamika']\n",
            "[1, 2, 'apple', 3.2, (5+7j), True, 'anamika']\n",
            "happylearning\n"
          ]
        },
        {
          "output_type": "error",
          "ename": "TypeError",
          "evalue": "'str' object does not support item assignment",
          "traceback": [
            "\u001b[0;31m---------------------------------------------------------------------------\u001b[0m",
            "\u001b[0;31mTypeError\u001b[0m                                 Traceback (most recent call last)",
            "\u001b[0;32m<ipython-input-13-d2eadc3e5dc8>\u001b[0m in \u001b[0;36m<cell line: 0>\u001b[0;34m()\u001b[0m\n\u001b[1;32m     15\u001b[0m \u001b[0mb\u001b[0m\u001b[0;34m=\u001b[0m \u001b[0;34m\"happylearning\"\u001b[0m\u001b[0;34m\u001b[0m\u001b[0;34m\u001b[0m\u001b[0m\n\u001b[1;32m     16\u001b[0m \u001b[0mprint\u001b[0m\u001b[0;34m(\u001b[0m\u001b[0mb\u001b[0m\u001b[0;34m)\u001b[0m\u001b[0;34m\u001b[0m\u001b[0;34m\u001b[0m\u001b[0m\n\u001b[0;32m---> 17\u001b[0;31m \u001b[0mb\u001b[0m\u001b[0;34m[\u001b[0m\u001b[0;36m3\u001b[0m\u001b[0;34m]\u001b[0m \u001b[0;34m=\u001b[0m \u001b[0;34m\"p\"\u001b[0m\u001b[0;34m\u001b[0m\u001b[0;34m\u001b[0m\u001b[0m\n\u001b[0m\u001b[1;32m     18\u001b[0m \u001b[0mprint\u001b[0m\u001b[0;34m(\u001b[0m\u001b[0mb\u001b[0m\u001b[0;34m)\u001b[0m\u001b[0;34m\u001b[0m\u001b[0;34m\u001b[0m\u001b[0m\n",
            "\u001b[0;31mTypeError\u001b[0m: 'str' object does not support item assignment"
          ]
        }
      ]
    },
    {
      "cell_type": "markdown",
      "source": [
        "***Q7) Write a function to demonstrate the behaviour of mutable and immutable arguments.***"
      ],
      "metadata": {
        "id": "KQsm8XqoB9S1"
      }
    },
    {
      "cell_type": "code",
      "source": [
        "#object whose state of value can be change after they are created is called mutable object.\n",
        "#lists is a type of mutable object.\n",
        "\n",
        "#mutable example\n",
        "list_cont = [1, 7, 3, 3.2, 5+7j, True, \"anamika\"]\n",
        "print (list_cont)\n",
        "\n",
        "list_cont[1] = \"happy\"\n",
        "print (list_cont)\n",
        "\n",
        "#object whose state of value can not be change after they are created is called immutable.\n",
        "#string is a type of immutable object\n",
        "\n",
        "#immutable example\n",
        "b= \"pwskill\"\n",
        "print(b)\n",
        "b[2] = \"p\"\n",
        "print(b)  #this will give an error"
      ],
      "metadata": {
        "colab": {
          "base_uri": "https://localhost:8080/",
          "height": 245
        },
        "outputId": "28879379-e08f-460d-f437-5ba9dbdb790d",
        "id": "Gi7VvLXiGvie"
      },
      "execution_count": 18,
      "outputs": [
        {
          "output_type": "stream",
          "name": "stdout",
          "text": [
            "[1, 7, 3, 3.2, (5+7j), True, 'anamika']\n",
            "[1, 'happy', 3, 3.2, (5+7j), True, 'anamika']\n",
            "pwskill\n"
          ]
        },
        {
          "output_type": "error",
          "ename": "TypeError",
          "evalue": "'str' object does not support item assignment",
          "traceback": [
            "\u001b[0;31m---------------------------------------------------------------------------\u001b[0m",
            "\u001b[0;31mTypeError\u001b[0m                                 Traceback (most recent call last)",
            "\u001b[0;32m<ipython-input-18-7dc4e91ebee0>\u001b[0m in \u001b[0;36m<cell line: 0>\u001b[0;34m()\u001b[0m\n\u001b[1;32m     15\u001b[0m \u001b[0mb\u001b[0m\u001b[0;34m=\u001b[0m \u001b[0;34m\"pwskill\"\u001b[0m\u001b[0;34m\u001b[0m\u001b[0;34m\u001b[0m\u001b[0m\n\u001b[1;32m     16\u001b[0m \u001b[0mprint\u001b[0m\u001b[0;34m(\u001b[0m\u001b[0mb\u001b[0m\u001b[0;34m)\u001b[0m\u001b[0;34m\u001b[0m\u001b[0;34m\u001b[0m\u001b[0m\n\u001b[0;32m---> 17\u001b[0;31m \u001b[0mb\u001b[0m\u001b[0;34m[\u001b[0m\u001b[0;36m2\u001b[0m\u001b[0;34m]\u001b[0m \u001b[0;34m=\u001b[0m \u001b[0;34m\"p\"\u001b[0m\u001b[0;34m\u001b[0m\u001b[0;34m\u001b[0m\u001b[0m\n\u001b[0m\u001b[1;32m     18\u001b[0m \u001b[0mprint\u001b[0m\u001b[0;34m(\u001b[0m\u001b[0mb\u001b[0m\u001b[0;34m)\u001b[0m  \u001b[0;31m#this will give an error\u001b[0m\u001b[0;34m\u001b[0m\u001b[0;34m\u001b[0m\u001b[0m\n",
            "\u001b[0;31mTypeError\u001b[0m: 'str' object does not support item assignment"
          ]
        }
      ]
    },
    {
      "cell_type": "markdown",
      "source": [
        "***Q8) write a program to demontrate the use of logical operator .***"
      ],
      "metadata": {
        "id": "-DrkCSadCVHI"
      }
    },
    {
      "cell_type": "code",
      "source": [
        " #logical operator are used to check whether an expression is True or False. They are used in dicion-making.\n",
        "\n",
        " a = 5\n",
        " b = 6\n",
        " print ((a>2)and (b<=6))\n",
        "\n",
        " and operator returns True if both operands are True.\n",
        " or operator returns True if either of the operands is True.\n",
        " not operator returns True if the operand is False."
      ],
      "metadata": {
        "colab": {
          "base_uri": "https://localhost:8080/"
        },
        "id": "FOV2rDleCeoC",
        "outputId": "270a8692-b262-42b2-8da4-82cb39cf10d8"
      },
      "execution_count": 1,
      "outputs": [
        {
          "output_type": "stream",
          "name": "stdout",
          "text": [
            "True\n"
          ]
        }
      ]
    },
    {
      "cell_type": "markdown",
      "source": [
        "***Q9) Write a python program to convert user input from string to integer , float and boolean types.***"
      ],
      "metadata": {
        "id": "P_tTqJf5Cqka"
      }
    },
    {
      "cell_type": "code",
      "source": [
        "#convert string into an integer\n",
        "number_str=\"10\"\n",
        "number_int=int(number_str)\n",
        "print(number_int)"
      ],
      "metadata": {
        "colab": {
          "base_uri": "https://localhost:8080/"
        },
        "id": "F3ezlUYYEmza",
        "outputId": "b977f9f5-299b-4d70-b9f0-4faabec102cf"
      },
      "execution_count": 67,
      "outputs": [
        {
          "output_type": "stream",
          "name": "stdout",
          "text": [
            "10\n"
          ]
        }
      ]
    },
    {
      "cell_type": "code",
      "source": [
        "#convert string to float\n",
        "number_str=\"10.5\"\n",
        "number_float=float(number_str)\n",
        "print(number_float)"
      ],
      "metadata": {
        "colab": {
          "base_uri": "https://localhost:8080/"
        },
        "id": "G0F81YnxEe-R",
        "outputId": "660253f8-51f1-4a6e-aa36-0cfb6e47ac17"
      },
      "execution_count": 68,
      "outputs": [
        {
          "output_type": "stream",
          "name": "stdout",
          "text": [
            "10.5\n"
          ]
        }
      ]
    },
    {
      "cell_type": "code",
      "source": [
        "#convert string to boolean\n",
        "string_value=\"\"\n",
        "boolean_value=bool(string_value)\n",
        "print(boolean_value)"
      ],
      "metadata": {
        "colab": {
          "base_uri": "https://localhost:8080/"
        },
        "id": "AF64iQSWFkdW",
        "outputId": "9152b217-aa4e-4547-f6bf-311c35e508df"
      },
      "execution_count": 69,
      "outputs": [
        {
          "output_type": "stream",
          "name": "stdout",
          "text": [
            "False\n"
          ]
        }
      ]
    },
    {
      "cell_type": "markdown",
      "source": [
        "**Q10) Write code to demonstrate type casting with list elements**."
      ],
      "metadata": {
        "id": "D7cYPOuEGOBc"
      }
    },
    {
      "cell_type": "code",
      "source": [
        "#type casting with list element\n"
      ],
      "metadata": {
        "id": "qNa3axfKGbN_"
      },
      "execution_count": null,
      "outputs": []
    },
    {
      "source": [
        "# Create a list with elements of different types\n",
        "my_list = [3, 5.5, \"6\", True, ]\n",
        "\n",
        "# Convert the first element to a float\n",
        "my_list[0] = float(my_list[0])\n",
        "\n",
        "# Convert the second element to an integer\n",
        "my_list[1] = int(my_list[1])\n",
        "\n",
        "# Convert the third element to a boolean\n",
        "my_list[3] = bool(my_list[3])\n",
        "\n",
        "# Convert the fourth element to a string\n",
        "my_list[3] = str(my_list[3])\n",
        "\n",
        "# Print the modified list\n",
        "print(my_list)"
      ],
      "cell_type": "code",
      "metadata": {
        "colab": {
          "base_uri": "https://localhost:8080/"
        },
        "id": "f96_vkL0L-_t",
        "outputId": "3d9c5173-2977-4dcd-a943-59e8e946efb2"
      },
      "execution_count": 44,
      "outputs": [
        {
          "output_type": "stream",
          "name": "stdout",
          "text": [
            "[3.0, 5, '6', 'True']\n"
          ]
        }
      ]
    },
    {
      "cell_type": "markdown",
      "source": [
        "***Q11) write a program that checks if a number is positive , negative, or zero.***"
      ],
      "metadata": {
        "id": "_gibu4-TG-qU"
      }
    },
    {
      "cell_type": "code",
      "source": [
        "#python program to check whether the number is positive, negative, or equal to zero\n",
        "def check (n):\n",
        " #if the number is positive\n",
        "  if n > 0:\n",
        "    print(\"positive\")\n",
        "\n",
        " #if the number is negative\n",
        "  elif n < o:\n",
        "     print(\"negative\")\n",
        "\n",
        "  #if the number is equal to zero\n",
        "  else:\n",
        "    print(\"equal to zero\")\n"
      ],
      "metadata": {
        "id": "iNzBS-ZgHJfK"
      },
      "execution_count": 75,
      "outputs": []
    },
    {
      "cell_type": "markdown",
      "source": [
        "***Q12) Write a for loop to print number from 1 to 10.***"
      ],
      "metadata": {
        "id": "WOtnSI_CIpca"
      }
    },
    {
      "cell_type": "code",
      "source": [
        "#loop to print number from 1 to 10\n",
        "\n",
        "for i in range (1,11):\n",
        "  print(i)"
      ],
      "metadata": {
        "colab": {
          "base_uri": "https://localhost:8080/"
        },
        "id": "_MjCoJa6IyxD",
        "outputId": "1cf513b5-68fb-47e9-b226-a8c18c734430"
      },
      "execution_count": 76,
      "outputs": [
        {
          "output_type": "stream",
          "name": "stdout",
          "text": [
            "1\n",
            "2\n",
            "3\n",
            "4\n",
            "5\n",
            "6\n",
            "7\n",
            "8\n",
            "9\n",
            "10\n"
          ]
        }
      ]
    },
    {
      "cell_type": "markdown",
      "source": [
        "**Q13) Write a python program to find the sum of all even numbers between 1 and 50.**"
      ],
      "metadata": {
        "id": "c4BwLtUwJJEx"
      }
    },
    {
      "cell_type": "code",
      "source": [
        "n= int(input(\"inter number upto which you want to add even number\"))\n",
        "i=2\n",
        "sum=0\n",
        "while(i<n):\n",
        "    sum=sum+i\n",
        "    i=i+2\n",
        "print(\"sum of even number=\",sum)"
      ],
      "metadata": {
        "colab": {
          "base_uri": "https://localhost:8080/"
        },
        "id": "-iZqBnrhJWL1",
        "outputId": "780b47d5-3182-4bc0-8004-11a9d6191f6c"
      },
      "execution_count": 83,
      "outputs": [
        {
          "output_type": "stream",
          "name": "stdout",
          "text": [
            "inter number upto which you want to add even number50\n",
            "sum of even number= 600\n"
          ]
        }
      ]
    },
    {
      "cell_type": "markdown",
      "source": [
        "***Q14) Write a program to reverse a string using a while loop.***"
      ],
      "metadata": {
        "id": "Ljn3OfoFK4lG"
      }
    },
    {
      "cell_type": "code",
      "source": [
        "#reverse a string using while loop\n",
        "string = \" python \"\n",
        "rev_string =\"\"\n",
        "lenght= len(string)-1\n",
        "while lenght >=0:\n",
        "  rev_string+=string[lenght]\n",
        "  lenght-=1\n",
        "\n",
        "print(rev_string)\n",
        "\n",
        "\n"
      ],
      "metadata": {
        "colab": {
          "base_uri": "https://localhost:8080/"
        },
        "id": "UlQUnb9fLsWh",
        "outputId": "5f878626-99e1-4ad0-880e-427a271575c0"
      },
      "execution_count": 14,
      "outputs": [
        {
          "output_type": "stream",
          "name": "stdout",
          "text": [
            " nohtyp \n"
          ]
        }
      ]
    },
    {
      "cell_type": "markdown",
      "source": [
        "***Q15)Write a python program to calculate the factorial of a number provided by the user using a while loop.***"
      ],
      "metadata": {
        "id": "uetjjUtE6CE5"
      }
    },
    {
      "cell_type": "code",
      "source": [
        "#factorial\n",
        "def factorial (n):\n",
        "    num = 1\n",
        "    while n>=1:\n",
        "      num = num * n\n",
        "      n = n - 1\n",
        "\n",
        "    return num"
      ],
      "metadata": {
        "id": "ZOHSm3mmBRsv"
      },
      "execution_count": 32,
      "outputs": []
    },
    {
      "cell_type": "code",
      "source": [
        "f = factorial(5)\n",
        "print(f)"
      ],
      "metadata": {
        "colab": {
          "base_uri": "https://localhost:8080/"
        },
        "id": "bsohC7-xBtN3",
        "outputId": "4e0d33e5-9668-49c6-8621-86f5c37ad93f"
      },
      "execution_count": 34,
      "outputs": [
        {
          "output_type": "stream",
          "name": "stdout",
          "text": [
            "120\n"
          ]
        }
      ]
    }
  ]
}